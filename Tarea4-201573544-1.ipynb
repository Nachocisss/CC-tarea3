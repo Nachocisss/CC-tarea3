{
 "cells": [
  {
   "cell_type": "markdown",
   "metadata": {},
   "source": [
    "<img src=\"escudo_utfsm.gif\" style=\"float:right;height:100px\">\n",
    "<img src=\"IsotipoDIisocolor.png\" style=\"float:left;height:100px\">\n",
    "<center>\n",
    "    <h1> ILI285 - Computación Científica I / INF285 - Computación Científica</h1>\n",
    "    <h1> Tarea 4: PageRank y GMRes </h1>\n",
    "    <h2> Ignacio Cisternas Núñez -- ROL: 201573544-1</h2>\n",
    "    <h4> ignacio.cisternasn@sansano.usm.cl </h4>\n",
    "</center>\n",
    "\n"
   ]
  },
  {
   "cell_type": "code",
   "execution_count": 1,
   "metadata": {},
   "outputs": [],
   "source": [
    "import numpy as np\n",
    "import matplotlib.pyplot as plt\n",
    "import random\n",
    "import scipy as sp\n",
    "from time import time\n",
    "from ipywidgets import interact, IntSlider\n",
    "import networkx as nx\n",
    "from scipy.sparse.linalg import gmres\n",
    "from scipy import sparse"
   ]
  },
  {
   "cell_type": "markdown",
   "metadata": {},
   "source": [
    "## PageRank\n",
    "\n",
    "Para poder trabajar con el algoritmo, es necesario considerar inicialmente una matriz de adyacencia $A \\in \\mathbb{R}^{n \\times n}$, con $n$ la cantidad de páginas web. Las entradas $a_{ij}$ de esta matriz tienen el valor 1 si la página $i$ tiene un enlace a la página $j$ y 0 en caso contrario. Notar que no necesariamente la matriz $A$ es simétrica, lo que denota que dos páginas web distintas podrían no enlazarse mutuamente. Además, considere que una misma página no se enlazará consigo misma, por lo que la matriz tendrá cero en su diagonal principal. \n",
    "\n",
    "Adicionalmente, podrían darse casos de que existan páginas que solo tienen links hacia ellas, pero no tienen links hacia otras páginas. En una representación de la matriz de adyacencia como grafo, se le conoce a estas páginas como nodos _sumideros_. Una consecuencia de estos casos podía ser que usuarios que llegan a esas páginas quedan retenidos porque no existen links a los cuales seguir navegando. Para evitar esta situación, se agregará la perturbación _rank-one_ a la matriz de adyacencia $A$.\n",
    "\n",
    "$$\n",
    "    \\tilde{A} = A + \\mathbf{a}\\cdot\\mathbf{1}^T,\n",
    "$$\n",
    "\n",
    "donde $\\mathbf{a} \\in \\mathbb{R}^{n}$ es un vector con un $1$ en la componente que corresponde a los nodos sumideros  y $0$ en los otras componentes, el vector $\\mathbf{1}$ corresponde al vector de unos en $\\mathbb{R}^{n}$ y $^T$ es el operador transpuesta."
   ]
  },
  {
   "cell_type": "markdown",
   "metadata": {},
   "source": [
    "#### Dataset\n",
    "Considere los datasets de los archivos `adjacency1.dat`, `adjacency2.dat`, `adjacency3.dat` y `adjacency4.dat`, que representan matrices de adyacencia tales que:\n",
    "- Adjacency1 es una matriz de adyacencia de 100 páginas y alrededor de un 20% de elementos no nulos.\n",
    "- Adjacency2 es una matriz de adyacencia de 100 páginas y alrededor de un 50% de elementos no nulos.\n",
    "- Adjacency3 es una matriz de adyacencia de 100 páginas y alrededor de un 80% de elementos no nulos.\n",
    "- Adjacency4 es una matriz de adyacencia de 1000 páginas y alrededor de un 5% de elementos no nulos.\n",
    "\n",
    "Cada fila $i$ de un archivo dataset corresponde a una página de índice $i$, y todos los valores separados por espacios en dicha fila representan los índices de las páginas $j$ a las cuales $i$ apunta. En otras palabras, un archivo dataset registra los vértices del grafo de adyacencia.\n",
    "\n",
    "Considere la siguiente función,`read_adjacency_matrix` , que obtiene la matriz de adyacencia a partir de los archivos anteriores."
   ]
  },
  {
   "cell_type": "code",
   "execution_count": 2,
   "metadata": {},
   "outputs": [],
   "source": [
    "def read_adjacency_matrix(file_path):\n",
    "    adjacency_list = []\n",
    "    with open(file_path, 'r') as f:\n",
    "        for line in f:\n",
    "            adjacency_list.append(np.array(list(map(int, line.split()))))\n",
    "    n = len(adjacency_list)\n",
    "    A = np.zeros((n,n))\n",
    "    for i in range(n):\n",
    "        A[i, adjacency_list[i]] = 1\n",
    "    return A\n",
    "A = read_adjacency_matrix(\"adjacency1.dat\")\n",
    "B = read_adjacency_matrix(\"adjacency2.dat\")\n",
    "C = read_adjacency_matrix(\"adjacency3.dat\")\n",
    "D = read_adjacency_matrix(\"adjacency4.dat\")"
   ]
  },
  {
   "cell_type": "markdown",
   "metadata": {},
   "source": [
    "## Sección 1 : Comparación de soluciones con GMRes y PALU\n",
    "\n",
    "En esta sección se compararán las soluciones de PageRank obtenidas por medio de GMRes y PALU. Para esto, se considerarán los datasets de los archivos `adjacency1.dat`, `adjacency2.dat`, `adjacency3.dat` y `adjacency4.dat`, variaciones en el _damping factor_ $\\alpha$ y el número de iteraciones $k$ de GMRes.\n",
    "\n",
    "**1.** Construya el sistema lineal necesario para encontrar PageRank. Para ello desarrolle la función `build_linear_system`, que recibe una matriz de adyacencia $A$ y un _damping factor_ $\\alpha$."
   ]
  },
  {
   "cell_type": "code",
   "execution_count": 3,
   "metadata": {},
   "outputs": [],
   "source": [
    "'''\n",
    "Input:\n",
    "A - (n x n matrix) adjacency matrix\n",
    "alpha - (float) damping factor, takes values from 0 to 1\n",
    "Output: \n",
    "A_hat - (n x n matrix) matrix of linear system\n",
    "b_hat - (n vector) right hand side vector of linear system\n",
    "'''\n",
    "\n",
    "def build_linear_system(A, alpha):\n",
    "    largo = len(A)\n",
    "    MatP = np.zeros((largo,largo))\n",
    "    MatP = A\n",
    "    vector1 = 0\n",
    "    for x in MatP:\n",
    "        suma = sum(x)\n",
    "        vector2 = 0\n",
    "        for j in x:\n",
    "            if j == 1:\n",
    "                MatP[vector1][vector2] = (1/suma)\n",
    "            vector2 += 1\n",
    "        vector1 += 1\n",
    "    MatI = np.zeros((largo,largo))\n",
    "    np.fill_diagonal(MatI,1)\n",
    "    MatV = np.full((largo, 1), 1/largo)\n",
    "    hat2 = np.zeros((largo,largo))\n",
    "    hat2 = (1-alpha) * MatV\n",
    "    hat1 = np.zeros((largo,largo))\n",
    "    hat1 = MatI - (alpha * np.transpose(MatP))               \n",
    "    return hat1, hat2"
   ]
  },
  {
   "cell_type": "markdown",
   "metadata": {},
   "source": [
    "**2.** Considere el error $e_k = \\|\\mathbf{x^{k}_{G}}-\\mathbf{x_{P}}\\|_2$ una métrica de error que compara $\\mathbf{x_{P}}$, la solución de PageRank obtenida por PALU, con $\\mathbf{x^{k}_{G}}$ la solución de PageRank obtenida con $k$ iteraciones de GMRes. Construya un gráfico que muestre $e_k$ versus $k$ y utilice un widget para seleccionar un dataset y variar el valor del _damping factor_ $\\alpha$. ¿Qué puede decir de la información mostrada en el gráfico? ¿Cómo afecta $\\alpha$ en los resultados obtenidos?"
   ]
  },
  {
   "cell_type": "code",
   "execution_count": 6,
   "metadata": {},
   "outputs": [],
   "source": [
    "def matrizTriangular(A, b, upper=True):\n",
    "    n = b.shape[0]\n",
    "    x = np.zeros_like(b)\n",
    "    if upper==True:\n",
    "        #perform back-substitution\n",
    "        x[-1] = (1./A[-1,-1]) * b[-1]\n",
    "        for i in range(n-2, -1, -1):\n",
    "            x[i] = (1./A[i,i]) * (b[i] - np.sum(A[i,i+1:] * x[i+1:]))\n",
    "    else:\n",
    "        #perform forward-substitution\n",
    "        x[0] = (1./A[0,0]) * b[0]\n",
    "        for i in range(1,n):\n",
    "            x[i] = (1./A[i,i]) * (b[i] - np.sum(A[i,:i] * x[:i]))\n",
    "    return x\n",
    "\n",
    "def palu_decomp(A):\n",
    "    N,_ = A.shape\n",
    "    P = np.identity(N)\n",
    "    L = np.zeros((N,N))\n",
    "    U = np.copy(A)\n",
    "    for column in range(N-1):    #columnas\n",
    "        p_index = np.argmax(np.abs(U[column:,column]))   #pivote\n",
    "        if p_index != 0:\n",
    "            row_perm(P, column, column+p_index)\n",
    "            row_perm(U, column, column+p_index)\n",
    "            row_perm(L, column, column+p_index)\n",
    "        for row in range(column+1,N):   #filas \n",
    "            L[row,column] = U[row,column]/U[column,column]\n",
    "            U[column] -= L[row,column]*U[column]\n",
    "    np.fill_diagonal(L,1)\n",
    "    return P,L,U\n",
    "\n",
    "def GMRes(A, b, x0=np.array([0.0]), m=10, flag_display=False, threshold=1e-12):\n",
    "    todas=np.zeros((m,len(b)))\n",
    "    n = len(b)\n",
    "    if len(x0)==1:\n",
    "        x0=np.zeros(n)\n",
    "    r0 = b - np.dot(A, x0)\n",
    "    nr0=np.linalg.norm(r0)\n",
    "    out_res=np.array(nr0)\n",
    "    Q = np.zeros((n,n))\n",
    "    H = np.zeros((n,n))\n",
    "    Q[:,0] = r0 / nr0\n",
    "    flag_break=False\n",
    "    matris=0\n",
    "    for k in np.arange(np.min((m,n))):\n",
    "        y = np.dot(A, Q[:,k])\n",
    "        if flag_display:\n",
    "            print('||y||=',np.linalg.norm(y))\n",
    "        for j in np.arange(k+1):\n",
    "            H[j][k] = np.dot(Q[:,j], y)\n",
    "            if flag_display:\n",
    "                print('H[',j,'][',k,']=',H[j][k])\n",
    "            y = y - np.dot(H[j][k],Q[:,j])\n",
    "            if flag_display:\n",
    "                print('||y||=',np.linalg.norm(y))\n",
    "        if k+1<n:\n",
    "            H[k+1][k] = np.linalg.norm(y)\n",
    "            if flag_display:\n",
    "                print('H[',k+1,'][',k,']=',H[k+1][k])\n",
    "            if (np.abs(H[k+1][k]) > 1e-16):\n",
    "                Q[:,k+1] = y/H[k+1][k]\n",
    "            else:\n",
    "                flag_break=True\n",
    "            e1 = np.zeros((k+1)+1)        \n",
    "            e1[0]=1\n",
    "            H_tilde=H[0:(k+1)+1,0:k+1]\n",
    "        else:\n",
    "            H_tilde=H[0:k+1,0:k+1]\n",
    "        ck = np.linalg.lstsq(H_tilde, nr0*e1)[0] \n",
    "        if k+1<n:\n",
    "            x = x0 + np.dot(Q[:,0:(k+1)], ck)\n",
    "        else:\n",
    "            x = x0 + np.dot(Q, ck)\n",
    "        norm_small=np.linalg.norm(np.dot(H_tilde,ck)-nr0*e1)\n",
    "        out_res = np.append(out_res,norm_small)\n",
    "        if flag_display:\n",
    "            norm_full=np.linalg.norm(b-np.dot(A,x))\n",
    "        todas[matris]=x\n",
    "        matris=matris+1\n",
    "        if flag_break:\n",
    "            if flag_display: \n",
    "                print('EXIT: flag_break=True')\n",
    "            break\n",
    "        if norm_small<threshold:\n",
    "            if flag_display:\n",
    "                print('EXIT: norm_small<threshold')\n",
    "            break\n",
    "    return todas,out_res\n"
   ]
  },
  {
   "cell_type": "code",
   "execution_count": 8,
   "metadata": {},
   "outputs": [
    {
     "data": {
      "application/vnd.jupyter.widget-view+json": {
       "model_id": "03aee924bb9d4392a037bb1cebeda244",
       "version_major": 2,
       "version_minor": 0
      },
      "text/plain": [
       "interactive(children=(IntSlider(value=2, description='data', max=4, min=1), FloatSlider(value=0.55, descriptio…"
      ]
     },
     "metadata": {},
     "output_type": "display_data"
    },
    {
     "data": {
      "text/plain": [
       "<function __main__.error(data, alpha, k)>"
      ]
     },
     "execution_count": 8,
     "metadata": {},
     "output_type": "execute_result"
    }
   ],
   "source": [
    "\n",
    "def error(data,alpha,k):\n",
    "    e=[]\n",
    "    posicion = [A,B,C,D]\n",
    "    for i in range (1,5):\n",
    "        if data == i:\n",
    "            Q,W = build_linear_system(posicion[i-1],alpha)\n",
    "    P,L,U = palu_decomp(Q)  # SOLVE PALU \n",
    "    W = np.dot(P,W)\n",
    "    d = matrizTriangular(L, W, upper=False)\n",
    "    x = matrizTriangular(U, d)\n",
    "    aux =(1/sum(x))\n",
    "    resultado = aux *x\n",
    "    W = np.transpose(W)\n",
    "    algo2, _ = GMRes(Q, W[0],m=k)\n",
    "    \n",
    "    for j in algo2:\n",
    "        algo = np.zeros((len(j),1))\n",
    "        aux = 0\n",
    "        for i in j:\n",
    "            algo[aux] = i\n",
    "            aux += 1\n",
    "        simple = algo - resultado\n",
    "        err = np.linalg.norm(simple)\n",
    "        e.append(err)\n",
    "    lista = range(1,len(e) + 1)\n",
    "    vx = list(lista)\n",
    "    plt.scatter(vx, e)\n",
    "    plt.show()\n",
    "    \n",
    "    return False\n",
    "np.warnings.filterwarnings('ignore')\n",
    "interact(error,data=IntSlider(min=1,max=4,step=1,value=2),k=IntSlider(min=1,max=100,step=1,value=7),alpha=(0.1,1.0,0.01))"
   ]
  },
  {
   "cell_type": "markdown",
   "metadata": {},
   "source": [
    "    \n",
    "    --- R) Al variar el valor de Alpha se observan cambios en los errores involucrados. Más especificamente, disminuir el valor de alpha implica disminuir el error obtenido.\n",
    "    "
   ]
  },
  {
   "cell_type": "markdown",
   "metadata": {},
   "source": [
    "## Sección 2 : Tiempo de Ejecución\n",
    "\n",
    "En esta sección se compararán los tiempos de ejecución de GMRes y PALU necesarios para resolver los sistemas de ecuaciones de PageRank. Para esto, se considerarán los datasets de los archivos `adjacency1.dat`, `adjacency2.dat`, `adjacency3.dat` y `adjacency4.dat`, variaciones en el _damping factor_ $\\alpha$ y el número de iteraciones $k$ de GMRes.\n",
    "\n",
    "**1.** Analice efecto de variar _damping factor_ $\\alpha$ para encontrar las 10 primeras páginas entregadas por PageRank. Para ello utilice la función `get_damping_ranking` definida a continuación. "
   ]
  },
  {
   "cell_type": "code",
   "execution_count": 9,
   "metadata": {},
   "outputs": [
    {
     "data": {
      "text/plain": [
       "[array([8.40000000e+01, 1.04441278e-02]),\n",
       " array([3.10000000e+01, 1.04126977e-02]),\n",
       " array([7.90000000e+01, 1.03869554e-02]),\n",
       " array([5.        , 0.01038598]),\n",
       " array([9.60000000e+01, 1.03609736e-02]),\n",
       " array([5.60000000e+01, 1.03258035e-02]),\n",
       " array([1.00000000e+02, 1.02885179e-02]),\n",
       " array([1.        , 0.01026802]),\n",
       " array([2.40000000e+01, 1.02603393e-02]),\n",
       " array([4.30000000e+01, 1.02433969e-02])]"
      ]
     },
     "execution_count": 9,
     "metadata": {},
     "output_type": "execute_result"
    }
   ],
   "source": [
    "'''\n",
    "Input:\n",
    "A - (n x n matrix) adjacency matrix\n",
    "alpha - (float) damping factor, takes values from 0 to 1\n",
    "k - number of iterations of GMRes until return a solution, use only if method is 'GMRes'\n",
    "method - string that indicates the method used to solve the linear system. Take values 'PALU' or 'GMRes'\n",
    "Output: \n",
    "ranking - list with 10 pages of ranking sorted by largest probability\n",
    "'''\n",
    "\n",
    "def get_damping_ranking(A ,alpha ,k ,method='GMRes'):\n",
    "    Ma,Vb=build_linear_system(A, alpha)\n",
    "    P,L,U = palu_decomp(Ma)     #DESCOMPOCISiON DE PALU\n",
    "    Vb = np.dot(P,Vb)\n",
    "    triangular1 = matrizTriangular(L, Vb, upper=False)\n",
    "    triangular2 = matrizTriangular(U, triangular1)\n",
    "    aux = (1/sum(triangular2))\n",
    "    Prim = aux*triangular2\n",
    "    Vb = np.transpose(Vb) \n",
    "    if \"GMRes\"== method:\n",
    "        A1, _ = GMRes(Ma, Vb[0],m=k)\n",
    "        A=np.zeros((len(Ma),1))\n",
    "        A=A1[len(A1)-1]\n",
    "        primerasPag=[]   #primeras Paginas de Pagerank\n",
    "        aux2 = A\n",
    "        for i in range(1,11):\n",
    "            pag = aux2.argsort()[-i]\n",
    "            primerasPag.append(np.array((pag+1, aux2[pag])))\n",
    "        ranking = primerasPag\n",
    "    else:\n",
    "        B=np.transpose(Prim)[0]\n",
    "        primerasPag=[]    #primeras Paginas de Pagerank\n",
    "        aux2 = Prim\n",
    "        for i in range(1,11):\n",
    "            pag = aux2.argsort()[-i]\n",
    "            primerasPag.append(np.array((pag+1, aux2[pag])))  \n",
    "        ranking=primerasPag   \n",
    "    return ranking\n",
    "\n",
    "get_damping_ranking(B,0.2,5)"
   ]
  },
  {
   "cell_type": "markdown",
   "metadata": {},
   "source": [
    "**2.** Construya un gráfico que muestre el tiempo de ejecución para determinar el ranking versus el factor de amortiguamiento $\\alpha$. En el mismo gráfico debe mostrar los dos métodos utilizados (GMRes y PALU). Además, utilice un widget que permita seleccionar uno de los cuatro datasets mencionados y el número $k$ de iteraciones de GMRes. ¿Qué puede decir respecto de los resultados obtenidos en cada método al variar el valor de $\\alpha$?"
   ]
  },
  {
   "cell_type": "code",
   "execution_count": 10,
   "metadata": {},
   "outputs": [
    {
     "data": {
      "application/vnd.jupyter.widget-view+json": {
       "model_id": "d8fdeef0c1de4b179b8b21b2706af797",
       "version_major": 2,
       "version_minor": 0
      },
      "text/plain": [
       "interactive(children=(IntSlider(value=1, description='data', max=4, min=1), IntSlider(value=13, description='k…"
      ]
     },
     "metadata": {},
     "output_type": "display_data"
    },
    {
     "data": {
      "text/plain": [
       "<function __main__.tiempo(data, k, method)>"
      ]
     },
     "execution_count": 10,
     "metadata": {},
     "output_type": "execute_result"
    }
   ],
   "source": [
    "def tiempo (data,k,method):\n",
    "    ejey,ejex = [],[]\n",
    "    for i in range (1,5):\n",
    "        if data == i:\n",
    "            mat = read_adjacency_matrix(\"adjacency\"+str(i)+\".dat\")\n",
    "    alpha = 0\n",
    "    for i in range(1,20):        \n",
    "        t0 = time()\n",
    "        if method == 1:\n",
    "            get_damping_ranking(mat, alpha, k, method='PALU')\n",
    "        elif method == 2:\n",
    "            get_damping_ranking(mat, alpha, k, method='GMRes')\n",
    "        t1 = time()\n",
    "        ejey.append(alpha)\n",
    "        alpha += 0.05\n",
    "        tTotal = t1 - t0\n",
    "        ejex.append(tTotal)\n",
    "    plt.scatter(ejex, ejey)\n",
    "    plt.show()\n",
    "    return 0\n",
    "\n",
    "interact(tiempo,method=(1,2,1),data=IntSlider(min=1,max=4,step=1,value=1),k=IntSlider(min=1,max=100,step=1,value=13))\n",
    "\n",
    "#method == 1 ----> PALU  | method == 2 ---->GMRes"
   ]
  },
  {
   "cell_type": "markdown",
   "metadata": {},
   "source": [
    "## Sección 3 : Análisis de iteraciones de GMRes\n",
    "\n",
    "En esta sección debe analizar las soluciones obtenidas por GMRes en cada iteración, utilizando los datasets `web-NotreDame` y `web-Stanford`. Se recomienda modificar el código de GMRes de los Jupyter Notebook del curso, aunque no es obligatorio. **Importante:** Debido al tamaño de estos datasets, no se debe intentar cargar toda la matriz de adyacencia en memoria en formato denso\n",
    "\n",
    "Considere la relación error $e_{k}$ versus iteración $k$, donde el error puede ser definido de la siguiente manera:\n",
    "\n",
    "$$\n",
    "e_{k} = \\| \\mathbf{x}_{k}-\\mathbf{x}_{k-1} \\|_2\n",
    "$$\n",
    "\n",
    "   Donde $\\mathbf{x}_k$ es la solución de GMRes obtenida en la iteración $k$-ésima, con $k$ que **puede tomar valores** en el rango $[1, 2, \\ldots, m]$. y $m$ el número de páginas del dataset. \n",
    "   \n",
    "**1.** Utilice GMRes de manera conveniente para graficar el error $e_k$ versus $k$, utilizando un widget para variar el _damping factor_ $\\alpha$ y seleccionar uno de los dos datasets requeridos. ¿Qué puede decir del error a medida que $k$ aumenta? ¿En qué afecta el valor de $\\alpha$?\n",
    "\n",
    "**Recomendación:** no intente cargar toda la matriz $\\widehat{A}$ en memoria. En lugar de eso, considere que debido a que $\\widehat{A}$ es _sparse_, la matriz $P$ también lo es y evite el cálculo de productos exteriores explícitamente. Se recomienda revisar el módulo `sparse` de `scipy` . Puede recurrir a modificaciones de GMRes para desarrollar esta pregunta. Utilice un valor máximo de $k$ razonable, pero no muy pequeño. No debe llegar necesariamente a $k = m$. Justifique su elección apropiadamente."
   ]
  },
  {
   "cell_type": "markdown",
   "metadata": {},
   "source": [
    "## Sección 4 (10 puntos): Conclusiones"
   ]
  },
  {
   "cell_type": "markdown",
   "metadata": {},
   "source": [
    "A partir de lo desarrollado en esta tarea concluya acerca de la pertinencia de utilizar GMRes para encontrar PageRank. ¿Qué ventajas y desventajas tiene el uso de este método en este problema? Comente."
   ]
  },
  {
   "cell_type": "markdown",
   "metadata": {},
   "source": [
    "   Se puede visualizar en esta actividad lo ventajoso que resulta utilizar el metodo del residuo minimo cuadrados para matrices dispersas que involucran sistemas lineales de gran tamaño como lo es la matriz de google. Que involucra una gran cantidad de información, Se observan errorres menores que en metodo PALU previamente estudiado. Lo que mejora la calidad de los datos. Esto pues como lo indica su nombre apunta a minimizar lo más posible el error de cada dato."
   ]
  },
  {
   "cell_type": "markdown",
   "metadata": {},
   "source": [
    "### Referencias\n",
    "\n",
    "* https://github.com/tclaudioe/Scientific-Computing/blob/master/SC1/10_GMRes.ipynb\n",
    "\n",
    "* https://docs.scipy.org/doc/scipy/reference/generated/scipy.sparse.linalg.gmres.html\n",
    "\n",
    "* Jupyter_Notebook_04_Metodos_Directos. (Material del curso)"
   ]
  },
  {
   "cell_type": "code",
   "execution_count": null,
   "metadata": {},
   "outputs": [],
   "source": []
  }
 ],
 "metadata": {
  "kernelspec": {
   "display_name": "Python 3",
   "language": "python",
   "name": "python3"
  },
  "language_info": {
   "codemirror_mode": {
    "name": "ipython",
    "version": 3
   },
   "file_extension": ".py",
   "mimetype": "text/x-python",
   "name": "python",
   "nbconvert_exporter": "python",
   "pygments_lexer": "ipython3",
   "version": "3.7.3"
  }
 },
 "nbformat": 4,
 "nbformat_minor": 2
}
